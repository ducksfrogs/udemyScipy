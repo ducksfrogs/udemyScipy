{
 "cells": [
  {
   "cell_type": "code",
   "execution_count": 1,
   "metadata": {},
   "outputs": [
    {
     "data": {
      "text/plain": [
       "<Figure size 432x288 with 0 Axes>"
      ]
     },
     "metadata": {},
     "output_type": "display_data"
    }
   ],
   "source": [
    "import numpy as np\n",
    "\n",
    "import matplotlib.pyplot as plt\n",
    "\n",
    "\n",
    "plt.set_cmap(plt.cm.gist_ncar)\n"
   ]
  },
  {
   "cell_type": "code",
   "execution_count": 2,
   "metadata": {},
   "outputs": [],
   "source": [
    "\n",
    "def plotBoundary(X, clf, mesh=True, cmap=plt.get_cmap()):\n",
    "    x_min = min(X[:, 0])\n",
    "    x_max = max(X[:, 0])\n",
    "    y_min = min(X[:, 1])\n",
    "    y_max = max(X[:, 1])\n",
    "\n",
    "    XX, YY = np.mgrid[x_min:x_max:200j, y_min:y_max:200j]\n",
    "\n",
    "    z = clf.predict(np.c_[XX.ravel(), YY.ravel()])\n",
    "    z = z.reshape(XX.shape)\n",
    "\n",
    "    if mesh:\n",
    "        plt.pcolormesh(XX, YY, z, zorder=-10, cmap=cmap)\n",
    "    plt.xlim(x_min, x_max)\n",
    "    plt.ylim(y_min, y_max)\n"
   ]
  },
  {
   "cell_type": "code",
   "execution_count": 6,
   "metadata": {},
   "outputs": [
    {
     "data": {
      "text/plain": [
       "array([[[ 1.        ,  1.        ,  1.        , ...,  1.        ,\n",
       "          1.        ,  1.        ],\n",
       "        [ 1.04522613,  1.04522613,  1.04522613, ...,  1.04522613,\n",
       "          1.04522613,  1.04522613],\n",
       "        [ 1.09045226,  1.09045226,  1.09045226, ...,  1.09045226,\n",
       "          1.09045226,  1.09045226],\n",
       "        ...,\n",
       "        [ 9.90954774,  9.90954774,  9.90954774, ...,  9.90954774,\n",
       "          9.90954774,  9.90954774],\n",
       "        [ 9.95477387,  9.95477387,  9.95477387, ...,  9.95477387,\n",
       "          9.95477387,  9.95477387],\n",
       "        [10.        , 10.        , 10.        , ..., 10.        ,\n",
       "         10.        , 10.        ]],\n",
       "\n",
       "       [[ 1.        ,  1.04522613,  1.09045226, ...,  9.90954774,\n",
       "          9.95477387, 10.        ],\n",
       "        [ 1.        ,  1.04522613,  1.09045226, ...,  9.90954774,\n",
       "          9.95477387, 10.        ],\n",
       "        [ 1.        ,  1.04522613,  1.09045226, ...,  9.90954774,\n",
       "          9.95477387, 10.        ],\n",
       "        ...,\n",
       "        [ 1.        ,  1.04522613,  1.09045226, ...,  9.90954774,\n",
       "          9.95477387, 10.        ],\n",
       "        [ 1.        ,  1.04522613,  1.09045226, ...,  9.90954774,\n",
       "          9.95477387, 10.        ],\n",
       "        [ 1.        ,  1.04522613,  1.09045226, ...,  9.90954774,\n",
       "          9.95477387, 10.        ]]])"
      ]
     },
     "execution_count": 6,
     "metadata": {},
     "output_type": "execute_result"
    }
   ],
   "source": [
    "np.mgrid[1:10:200j, 1:10:200j]"
   ]
  },
  {
   "cell_type": "code",
   "execution_count": 8,
   "metadata": {},
   "outputs": [
    {
     "data": {
      "text/plain": [
       "array([-1. , -0.5,  0. ,  0.5,  1. ])"
      ]
     },
     "execution_count": 8,
     "metadata": {},
     "output_type": "execute_result"
    }
   ],
   "source": [
    "np.r_[-1:1:5j]"
   ]
  },
  {
   "cell_type": "code",
   "execution_count": 10,
   "metadata": {},
   "outputs": [
    {
     "data": {
      "text/plain": [
       "array([[[1, 1, 1, 1, 1, 1, 1, 1, 1],\n",
       "        [2, 2, 2, 2, 2, 2, 2, 2, 2],\n",
       "        [3, 3, 3, 3, 3, 3, 3, 3, 3],\n",
       "        [4, 4, 4, 4, 4, 4, 4, 4, 4],\n",
       "        [5, 5, 5, 5, 5, 5, 5, 5, 5],\n",
       "        [6, 6, 6, 6, 6, 6, 6, 6, 6],\n",
       "        [7, 7, 7, 7, 7, 7, 7, 7, 7],\n",
       "        [8, 8, 8, 8, 8, 8, 8, 8, 8],\n",
       "        [9, 9, 9, 9, 9, 9, 9, 9, 9]],\n",
       "\n",
       "       [[1, 2, 3, 4, 5, 6, 7, 8, 9],\n",
       "        [1, 2, 3, 4, 5, 6, 7, 8, 9],\n",
       "        [1, 2, 3, 4, 5, 6, 7, 8, 9],\n",
       "        [1, 2, 3, 4, 5, 6, 7, 8, 9],\n",
       "        [1, 2, 3, 4, 5, 6, 7, 8, 9],\n",
       "        [1, 2, 3, 4, 5, 6, 7, 8, 9],\n",
       "        [1, 2, 3, 4, 5, 6, 7, 8, 9],\n",
       "        [1, 2, 3, 4, 5, 6, 7, 8, 9],\n",
       "        [1, 2, 3, 4, 5, 6, 7, 8, 9]]])"
      ]
     },
     "execution_count": 10,
     "metadata": {},
     "output_type": "execute_result"
    }
   ],
   "source": [
    "np.mgrid[1:10, 1:10]"
   ]
  },
  {
   "cell_type": "code",
   "execution_count": null,
   "metadata": {},
   "outputs": [],
   "source": []
  }
 ],
 "metadata": {
  "kernelspec": {
   "display_name": "Python 3",
   "language": "python",
   "name": "python3"
  },
  "language_info": {
   "codemirror_mode": {
    "name": "ipython",
    "version": 3
   },
   "file_extension": ".py",
   "mimetype": "text/x-python",
   "name": "python",
   "nbconvert_exporter": "python",
   "pygments_lexer": "ipython3",
   "version": "3.8.5"
  }
 },
 "nbformat": 4,
 "nbformat_minor": 4
}
