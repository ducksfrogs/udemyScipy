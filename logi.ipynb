{
 "cells": [
  {
   "cell_type": "code",
   "execution_count": 2,
   "metadata": {},
   "outputs": [
    {
     "data": {
      "image/png": "[encoded data removed]",
      "text/plain": [
       "<Figure size 432x288 with 1 Axes>"
      ]
     },
     "metadata": {
      "needs_background": "light"
     },
     "output_type": "display_data"
    }
   ],
   "source": [
    "import matplotlib.pyplot as plt\n",
    "import numpy as np\n",
    "from sklearn.datasets import make_blobs\n",
    "\n",
    "X, y = make_blobs(n_samples=20,n_features=2,\n",
    "                  centers=2, random_state=3)\n",
    "\n",
    "\n",
    "plt.scatter(X[:, 0], X[:, 1],c=y, s=50)\n",
    "for l, dx, dy in zip(y, X[:,0], X[:,1]):\n",
    "    plt.annotate(l, xy=(dx-0.2, dy+0.4))\n"
   ]
  },
  {
   "cell_type": "code",
   "execution_count": 1,
   "metadata": {},
   "outputs": [],
   "source": [
    "import numpy as np\n",
    "import pandas as pd\n",
    "import matplotlib.pyplot as plt\n",
    "\n",
    "from sklearn.datasets import load_breast_cancer\n",
    "\n",
    "data = load_breast_cancer()\n",
    "X = data.data\n",
    "y = data.target\n",
    "\n",
    "from sklearn.model_selection import ShuffleSplit\n",
    "ss = ShuffleSplit(n_splits=1,test_size=0.2, train_size=0.8, random_state=0)\n",
    "\n",
    "train_index, test_index = next(ss.split(X,y))\n",
    "\n",
    "X_train, X_test = X[train_index], X[test_index]\n",
    "y_train, y_test = y[train_index], y[test_index]\n",
    "\n"
   ]
  },
  {
   "cell_type": "code",
   "execution_count": 6,
   "metadata": {},
   "outputs": [
    {
     "name": "stderr",
     "output_type": "stream",
     "text": [
      "/home/ma/.bin/anaconda3/lib/python3.8/site-packages/sklearn/linear_model/_logistic.py:762: ConvergenceWarning: lbfgs failed to converge (status=1):\n",
      "STOP: TOTAL NO. of ITERATIONS REACHED LIMIT.\n",
      "\n",
      "Increase the number of iterations (max_iter) or scale the data as shown in:\n",
      "    https://scikit-learn.org/stable/modules/preprocessing.html\n",
      "Please also refer to the documentation for alternative solver options:\n",
      "    https://scikit-learn.org/stable/modules/linear_model.html#logistic-regression\n",
      "  n_iter_i = _check_optimize_result(\n"
     ]
    },
    {
     "data": {
      "text/plain": [
       "0.9473684210526315"
      ]
     },
     "execution_count": 6,
     "metadata": {},
     "output_type": "execute_result"
    }
   ],
   "source": [
    "clf = LogisticRegression()\n",
    "clf.fit(X_train, y_train)\n",
    "clf.score(X_test, y_test)\n"
   ]
  },
  {
   "cell_type": "code",
   "execution_count": 3,
   "metadata": {},
   "outputs": [],
   "source": [
    "from sklearn.linear_model import LogisticRegression\n"
   ]
  },
  {
   "cell_type": "code",
   "execution_count": 5,
   "metadata": {},
   "outputs": [
    {
     "name": "stderr",
     "output_type": "stream",
     "text": [
      "/home/ma/.bin/anaconda3/lib/python3.8/site-packages/sklearn/linear_model/_logistic.py:762: ConvergenceWarning: lbfgs failed to converge (status=1):\n",
      "STOP: TOTAL NO. of ITERATIONS REACHED LIMIT.\n",
      "\n",
      "Increase the number of iterations (max_iter) or scale the data as shown in:\n",
      "    https://scikit-learn.org/stable/modules/preprocessing.html\n",
      "Please also refer to the documentation for alternative solver options:\n",
      "    https://scikit-learn.org/stable/modules/linear_model.html#logistic-regression\n",
      "  n_iter_i = _check_optimize_result(\n"
     ]
    },
    {
     "data": {
      "text/plain": [
       "0.9298245614035088"
      ]
     },
     "execution_count": 5,
     "metadata": {},
     "output_type": "execute_result"
    }
   ],
   "source": [
    "\n",
    "clf.C = 1e-3\n",
    "clf.fit(X_train, y_train)\n",
    "clf.score(X_test, y_test)\n"
   ]
  },
  {
   "cell_type": "code",
   "execution_count": 7,
   "metadata": {},
   "outputs": [
    {
     "data": {
      "text/plain": [
       "array([0, 1, 1, 1, 1, 1, 1, 1, 1, 1, 1, 1, 1, 0, 1, 0, 1, 0, 0, 0, 0, 0,\n",
       "       1, 1, 0, 1, 1, 0, 1, 0, 1, 0, 1, 0, 1, 0, 1, 0, 1, 0, 0, 1, 0, 1,\n",
       "       0, 0, 1, 1, 1, 0, 0, 1, 0, 1, 1, 1, 1, 1, 1, 0, 0, 0, 1, 1, 0, 1,\n",
       "       0, 0, 0, 1, 0, 0, 1, 1, 0, 1, 1, 1, 1, 1, 0, 0, 0, 1, 0, 1, 1, 1,\n",
       "       0, 0, 1, 0, 0, 0, 1, 1, 0, 1, 1, 1, 1, 1, 1, 1, 0, 1, 0, 1, 0, 0,\n",
       "       1, 0, 0, 1])"
      ]
     },
     "execution_count": 7,
     "metadata": {},
     "output_type": "execute_result"
    }
   ],
   "source": [
    "clf.predict(X_test)"
   ]
  },
  {
   "cell_type": "code",
   "execution_count": 8,
   "metadata": {},
   "outputs": [],
   "source": [
    "X_test_value = clf.decision_function(X_test)\n"
   ]
  },
  {
   "cell_type": "code",
   "execution_count": 9,
   "metadata": {},
   "outputs": [
    {
     "data": {
      "text/plain": [
       "array([ -4.56485484,   3.56293149,   5.85643546,   1.36012763,\n",
       "         8.63283728,   5.74276282,   5.18674715,   6.01261564,\n",
       "         4.07140994,   7.57763027,   0.15426119,   1.96504143,\n",
       "         5.69539998,  -1.64001928,   1.45196835,  -5.15937242,\n",
       "         4.58216917, -19.44479741,  -6.28524246, -26.00575806,\n",
       "       -10.10037001,  -2.0597753 ,   6.05078992,   4.37943433,\n",
       "        -4.89709456,   3.5083802 ,   5.71371003,  -1.03004431,\n",
       "         5.54306494, -24.46172797,   7.25388389, -17.7645531 ,\n",
       "         0.92968038,  -7.58516048,   8.14339197,  -6.09697774,\n",
       "         2.20061276, -13.08776952,   5.33771384,  -7.52082035,\n",
       "        -2.19665203,   5.70225704,  -6.23970294,   6.69621961,\n",
       "        -1.95311316, -27.27427095,   7.89339234,   3.17570741,\n",
       "         5.80320504,  -6.97459945, -11.73063713,   0.2330339 ,\n",
       "       -14.6553078 ,   5.41473243,   4.92981791,   6.66248298,\n",
       "         4.82868067,   3.47070353,   3.48312947, -38.14002911,\n",
       "        -4.15800962,  -9.74655808,   6.09715933,   4.83810323,\n",
       "       -16.14873862,   2.39337447, -40.93453592,  -9.839903  ,\n",
       "       -17.06348459,   4.18968112,  -0.30179886, -11.52749143,\n",
       "         5.40614413,   1.91205499, -13.10524036,   3.86318493,\n",
       "         5.62670059,   4.8153503 ,   5.20075642,   4.59942382,\n",
       "        -5.55470211, -20.54012545, -10.97424024,   7.21728454,\n",
       "        -2.77830607,   6.74039313,   5.1298473 ,   6.27942702,\n",
       "       -10.67933582, -23.58344203,   7.64940617,  -1.01581001,\n",
       "        -0.47991271,  -6.84990938,   3.67800457,   4.39185115,\n",
       "       -35.11791659,   1.73568774,   3.26977735,   3.81463566,\n",
       "         6.74552057,   4.94942375,   4.8288262 ,   2.74633635,\n",
       "       -16.20752746,   6.24502074,  -9.47986309,   1.51651817,\n",
       "        -1.93011499,  -0.80607549,   3.72698676,  -7.05179455,\n",
       "       -11.62377573,   1.82579159])"
      ]
     },
     "execution_count": 9,
     "metadata": {},
     "output_type": "execute_result"
    }
   ],
   "source": [
    "X_test_value"
   ]
  },
  {
   "cell_type": "code",
   "execution_count": null,
   "metadata": {},
   "outputs": [],
   "source": [
    "ddddddddddddddddc"
   ]
  }
 ],
 "metadata": {
  "kernelspec": {
   "display_name": "Python 3",
   "language": "python",
   "name": "python3"
  },
  "language_info": {
   "codemirror_mode": {
    "name": "ipython",
    "version": 3
   },
   "file_extension": ".py",
   "mimetype": "text/x-python",
   "name": "python",
   "nbconvert_exporter": "python",
   "pygments_lexer": "ipython3",
   "version": "3.8.5"
  }
 },
 "nbformat": 4,
 "nbformat_minor": 4
}
