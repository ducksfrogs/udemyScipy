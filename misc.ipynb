{
 "cells": [
  {
   "cell_type": "code",
   "execution_count": 1,
   "metadata": {},
   "outputs": [],
   "source": [
    "import numpy as np"
   ]
  },
  {
   "cell_type": "code",
   "execution_count": 3,
   "metadata": {},
   "outputs": [],
   "source": [
    "mat = np.zeros([2,2])"
   ]
  },
  {
   "cell_type": "code",
   "execution_count": 4,
   "metadata": {},
   "outputs": [],
   "source": [
    "y_pred = [0,1,1,1,1]\n",
    "y_test = [0,0,1,1,1]"
   ]
  },
  {
   "cell_type": "code",
   "execution_count": 5,
   "metadata": {},
   "outputs": [],
   "source": [
    "for i, j in zip(y_test, y_pred):\n",
    "    mat[i,j] += 1"
   ]
  },
  {
   "cell_type": "code",
   "execution_count": 6,
   "metadata": {},
   "outputs": [
    {
     "data": {
      "text/plain": [
       "array([[1., 1.],\n",
       "       [0., 3.]])"
      ]
     },
     "execution_count": 6,
     "metadata": {},
     "output_type": "execute_result"
    }
   ],
   "source": [
    "mat"
   ]
  },
  {
   "cell_type": "code",
   "execution_count": 7,
   "metadata": {},
   "outputs": [
    {
     "data": {
      "text/plain": [
       "1.0"
      ]
     },
     "execution_count": 7,
     "metadata": {},
     "output_type": "execute_result"
    }
   ],
   "source": [
    "mat[0,1]"
   ]
  },
  {
   "cell_type": "code",
   "execution_count": 9,
   "metadata": {},
   "outputs": [
    {
     "data": {
      "text/plain": [
       "0.0"
      ]
     },
     "execution_count": 9,
     "metadata": {},
     "output_type": "execute_result"
    }
   ],
   "source": [
    "mat[1,0]"
   ]
  },
  {
   "cell_type": "code",
   "execution_count": 9,
   "metadata": {},
   "outputs": [
    {
     "data": {
      "text/plain": [
       "array([[[ 0.        ,  0.        ],\n",
       "        [ 0.52631579,  0.52631579],\n",
       "        [ 1.05263158,  1.05263158],\n",
       "        [ 1.57894737,  1.57894737],\n",
       "        [ 2.10526316,  2.10526316],\n",
       "        [ 2.63157895,  2.63157895],\n",
       "        [ 3.15789474,  3.15789474],\n",
       "        [ 3.68421053,  3.68421053],\n",
       "        [ 4.21052632,  4.21052632],\n",
       "        [ 4.73684211,  4.73684211],\n",
       "        [ 5.26315789,  5.26315789],\n",
       "        [ 5.78947368,  5.78947368],\n",
       "        [ 6.31578947,  6.31578947],\n",
       "        [ 6.84210526,  6.84210526],\n",
       "        [ 7.36842105,  7.36842105],\n",
       "        [ 7.89473684,  7.89473684],\n",
       "        [ 8.42105263,  8.42105263],\n",
       "        [ 8.94736842,  8.94736842],\n",
       "        [ 9.47368421,  9.47368421],\n",
       "        [10.        , 10.        ]],\n",
       "\n",
       "       [[ 0.        ,  2.        ],\n",
       "        [ 0.        ,  2.        ],\n",
       "        [ 0.        ,  2.        ],\n",
       "        [ 0.        ,  2.        ],\n",
       "        [ 0.        ,  2.        ],\n",
       "        [ 0.        ,  2.        ],\n",
       "        [ 0.        ,  2.        ],\n",
       "        [ 0.        ,  2.        ],\n",
       "        [ 0.        ,  2.        ],\n",
       "        [ 0.        ,  2.        ],\n",
       "        [ 0.        ,  2.        ],\n",
       "        [ 0.        ,  2.        ],\n",
       "        [ 0.        ,  2.        ],\n",
       "        [ 0.        ,  2.        ],\n",
       "        [ 0.        ,  2.        ],\n",
       "        [ 0.        ,  2.        ],\n",
       "        [ 0.        ,  2.        ],\n",
       "        [ 0.        ,  2.        ],\n",
       "        [ 0.        ,  2.        ],\n",
       "        [ 0.        ,  2.        ]]])"
      ]
     },
     "execution_count": 9,
     "metadata": {},
     "output_type": "execute_result"
    }
   ],
   "source": [
    "np.mgrid[0:10:20j, 0:2:2j]"
   ]
  },
  {
   "cell_type": "code",
   "execution_count": null,
   "metadata": {},
   "outputs": [],
   "source": []
  }
 ],
 "metadata": {
  "kernelspec": {
   "display_name": "Python 3",
   "language": "python",
   "name": "python3"
  },
  "language_info": {
   "codemirror_mode": {
    "name": "ipython",
    "version": 3
   },
   "file_extension": ".py",
   "mimetype": "text/x-python",
   "name": "python",
   "nbconvert_exporter": "python",
   "pygments_lexer": "ipython3",
   "version": "3.8.5"
  }
 },
 "nbformat": 4,
 "nbformat_minor": 4
}
