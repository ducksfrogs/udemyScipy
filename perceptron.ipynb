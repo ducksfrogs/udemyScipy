{
 "cells": [
  {
   "cell_type": "code",
   "execution_count": 1,
   "metadata": {},
   "outputs": [],
   "source": [
    "import numpy as np\n",
    "import matplotlib.pyplot as plt\n",
    "import pandas as pd\n",
    "\n",
    "from sklearn.datasets import make_blobs\n",
    "\n",
    "X, y = make_blobs(n_samples=20,\n",
    "                  n_features=2, \n",
    "                  centers=2, \n",
    "                  cluster_std=2, \n",
    "                  random_state=3)\n",
    "\n",
    "\n"
   ]
  },
  {
   "cell_type": "code",
   "execution_count": 2,
   "metadata": {},
   "outputs": [
    {
     "data": {
      "text/plain": [
       "<matplotlib.collections.PathCollection at 0x7faf6f3bf910>"
      ]
     },
     "execution_count": 2,
     "metadata": {},
     "output_type": "execute_result"
    },
    {
     "data": {
      "image/png": "[encoded data removed]",
      "text/plain": [
       "<Figure size 432x288 with 1 Axes>"
      ]
     },
     "metadata": {
      "needs_background": "light"
     },
     "output_type": "display_data"
    }
   ],
   "source": [
    "plt.scatter(X[:,0], X[:,1], c=y, s=50)"
   ]
  },
  {
   "cell_type": "code",
   "execution_count": 3,
   "metadata": {},
   "outputs": [],
   "source": [
    "def plotBoundary(X, clf, mesh=True, boundary=True, cmap=plt.get_cmap()):\n",
    "    x_min = min(X[:, 0])\n",
    "    x_max = max(X[:, 0])\n",
    "    y_min = min(X[:, 1])\n",
    "    y_max = max(X[:, 1])\n",
    "\n",
    "    XX, YY = np.mgrid[x_min:x_max:200j, y_min:y_max:200j]\n",
    "\n",
    "    z = clf.predict(np.c_[XX.ravel(), YY.ravel()])\n",
    "    z = z.reshape(XX.shape)\n",
    "\n",
    "    if mesh:\n",
    "        plt.pcolormesh(XX, YY, z, zorder=-10)\n",
    "    if boundary:\n",
    "        plt.contourf(XX, YY, z, colors='k', linestyle='-', levels=[0.5] )\n",
    "    plt.xlim(x_min, x_max)\n",
    "    plt.ylim(y_min, y_max)\n"
   ]
  },
  {
   "cell_type": "code",
   "execution_count": 36,
   "metadata": {},
   "outputs": [
    {
     "data": {
      "text/plain": [
       "Perceptron()"
      ]
     },
     "execution_count": 36,
     "metadata": {},
     "output_type": "execute_result"
    }
   ],
   "source": [
    "from sklearn.linear_model import Perceptron\n",
    "\n",
    "clf = Perceptron()\n",
    "\n",
    "clf.fit(X, y)\n"
   ]
  },
  {
   "cell_type": "code",
   "execution_count": 37,
   "metadata": {},
   "outputs": [
    {
     "data": {
      "text/plain": [
       "<matplotlib.collections.PathCollection at 0x7efcf2679df0>"
      ]
     },
     "execution_count": 37,
     "metadata": {},
     "output_type": "execute_result"
    },
    {
     "data": {
      "image/png": "[encoded data removed]",
      "text/plain": [
       "<Figure size 432x288 with 1 Axes>"
      ]
     },
     "metadata": {
      "needs_background": "light"
     },
     "output_type": "display_data"
    }
   ],
   "source": [
    "plt.scatter(X[:,0], X[:,1], marker='o', c=y, edgecolors='k')\n"
   ]
  },
  {
   "cell_type": "code",
   "execution_count": 4,
   "metadata": {},
   "outputs": [
    {
     "data": {
      "text/plain": [
       "<matplotlib.collections.PathCollection at 0x7faf6eb7f610>"
      ]
     },
     "execution_count": 4,
     "metadata": {},
     "output_type": "execute_result"
    },
    {
     "data": {
      "image/png": "[encoded data removed]",
      "text/plain": [
       "<Figure size 432x288 with 1 Axes>"
      ]
     },
     "metadata": {
      "needs_background": "light"
     },
     "output_type": "display_data"
    }
   ],
   "source": [
    "X, y = make_blobs(n_samples=20, n_features=2, centers=2, cluster_std=1, random_state=8) \n",
    "\n",
    "plt.scatter(X[:,0], X[:,1], c=y, s=50)\n"
   ]
  },
  {
   "cell_type": "code",
   "execution_count": 5,
   "metadata": {},
   "outputs": [
    {
     "ename": "NameError",
     "evalue": "name 'clf' is not defined",
     "output_type": "error",
     "traceback": [
      "\u001b[0;31m---------------------------------------------------------------------------\u001b[0m",
      "\u001b[0;31mNameError\u001b[0m                                 Traceback (most recent call last)",
      "\u001b[0;32m<ipython-input-5-17d6911373ef>\u001b[0m in \u001b[0;36m<module>\u001b[0;34m\u001b[0m\n\u001b[1;32m      1\u001b[0m \u001b[0;32mfor\u001b[0m \u001b[0ms\u001b[0m \u001b[0;32min\u001b[0m \u001b[0mrange\u001b[0m\u001b[0;34m(\u001b[0m\u001b[0;36m10\u001b[0m\u001b[0;34m)\u001b[0m\u001b[0;34m:\u001b[0m\u001b[0;34m\u001b[0m\u001b[0;34m\u001b[0m\u001b[0m\n\u001b[0;32m----> 2\u001b[0;31m     \u001b[0mclf\u001b[0m\u001b[0;34m.\u001b[0m\u001b[0mrandom_state\u001b[0m \u001b[0;34m=\u001b[0m \u001b[0ms\u001b[0m\u001b[0;34m\u001b[0m\u001b[0;34m\u001b[0m\u001b[0m\n\u001b[0m\u001b[1;32m      3\u001b[0m     \u001b[0mclf\u001b[0m\u001b[0;34m.\u001b[0m\u001b[0mfit\u001b[0m\u001b[0;34m(\u001b[0m\u001b[0mX\u001b[0m\u001b[0;34m,\u001b[0m \u001b[0my\u001b[0m\u001b[0;34m)\u001b[0m\u001b[0;34m\u001b[0m\u001b[0;34m\u001b[0m\u001b[0m\n\u001b[1;32m      4\u001b[0m     \u001b[0mplotBoundary\u001b[0m\u001b[0;34m(\u001b[0m\u001b[0mX\u001b[0m\u001b[0;34m,\u001b[0m \u001b[0mclf\u001b[0m\u001b[0;34m,\u001b[0m \u001b[0mmesh\u001b[0m\u001b[0;34m=\u001b[0m\u001b[0;32mFalse\u001b[0m\u001b[0;34m)\u001b[0m\u001b[0;34m\u001b[0m\u001b[0;34m\u001b[0m\u001b[0m\n\u001b[1;32m      5\u001b[0m \u001b[0;34m\u001b[0m\u001b[0m\n",
      "\u001b[0;31mNameError\u001b[0m: name 'clf' is not defined"
     ]
    }
   ],
   "source": [
    "for s in range(10):\n",
    "    clf.random_state = s\n",
    "    clf.fit(X, y)\n",
    "    plotBoundary(X, clf, mesh=False)\n",
    "\n",
    "plt.scatter(X[:,0], X[:,1], marker='o', c=y, s=50, edgecolors='k')\n"
   ]
  },
  {
   "cell_type": "code",
   "execution_count": 7,
   "metadata": {},
   "outputs": [],
   "source": [
    "from sklearn.datasets import load_breast_cancer\n",
    "\n",
    "data = load_breast_cancer()\n",
    "\n",
    "X = data.data\n",
    "y = data.target"
   ]
  },
  {
   "cell_type": "code",
   "execution_count": 27,
   "metadata": {},
   "outputs": [],
   "source": [
    "from sklearn.model_selection import ShuffleSplit\n",
    "\n",
    "ss = ShuffleSplit(n_splits=1, train_size=0.8, test_size=0.2, random_state=0)\n",
    "\n",
    "train_index, test_index = next(ss.split(X, y))\n",
    "\n",
    "X_train, X_test = X[train_index], X[test_index]\n",
    "y_train,y_test = y[train_index], y[test_index]"
   ]
  },
  {
   "cell_type": "code",
   "execution_count": 28,
   "metadata": {},
   "outputs": [],
   "source": [
    "from sklearn.linear_model import Perceptron"
   ]
  },
  {
   "cell_type": "code",
   "execution_count": 29,
   "metadata": {},
   "outputs": [
    {
     "data": {
      "text/plain": [
       "Perceptron()"
      ]
     },
     "execution_count": 29,
     "metadata": {},
     "output_type": "execute_result"
    }
   ],
   "source": [
    "clf = Perceptron()\n",
    "clf.fit(X_train, y_train)"
   ]
  },
  {
   "cell_type": "code",
   "execution_count": 30,
   "metadata": {},
   "outputs": [
    {
     "data": {
      "text/plain": [
       "0.6491228070175439"
      ]
     },
     "execution_count": 30,
     "metadata": {},
     "output_type": "execute_result"
    }
   ],
   "source": [
    "clf.score(X_test, y_test)"
   ]
  },
  {
   "cell_type": "code",
   "execution_count": 31,
   "metadata": {},
   "outputs": [
    {
     "name": "stdout",
     "output_type": "stream",
     "text": [
      "1 0.6491228070175439\n",
      "2 0.8333333333333334\n",
      "3 0.7105263157894737\n",
      "4 0.8333333333333334\n",
      "5 0.8421052631578947\n",
      "6 0.7719298245614035\n",
      "7 0.8421052631578947\n",
      "8 0.7631578947368421\n",
      "9 0.7631578947368421\n",
      "10 0.7631578947368421\n",
      "11 0.7894736842105263\n",
      "12 0.8508771929824561\n",
      "13 0.9210526315789473\n",
      "14 0.9210526315789473\n",
      "15 0.9210526315789473\n",
      "16 0.8596491228070176\n",
      "17 0.8333333333333334\n",
      "18 0.8508771929824561\n",
      "19 0.8333333333333334\n",
      "20 0.8333333333333334\n",
      "21 0.8333333333333334\n",
      "22 0.8508771929824561\n",
      "23 0.8421052631578947\n",
      "24 0.8333333333333334\n",
      "25 0.8333333333333334\n",
      "26 0.8333333333333334\n",
      "27 0.8333333333333334\n",
      "28 0.8333333333333334\n",
      "29 0.9210526315789473\n",
      "30 0.8947368421052632\n",
      "31 0.9298245614035088\n",
      "32 0.8421052631578947\n",
      "33 0.8245614035087719\n",
      "34 0.8333333333333334\n",
      "35 0.8333333333333334\n",
      "36 0.8333333333333334\n",
      "37 0.8333333333333334\n",
      "38 0.8508771929824561\n",
      "39 0.8859649122807017\n",
      "40 0.8333333333333334\n",
      "41 0.8333333333333334\n",
      "42 0.8333333333333334\n",
      "43 0.8333333333333334\n",
      "44 0.8333333333333334\n",
      "45 0.8859649122807017\n",
      "46 0.8771929824561403\n",
      "47 0.8947368421052632\n",
      "48 0.8771929824561403\n",
      "49 0.8421052631578947\n"
     ]
    },
    {
     "data": {
      "text/plain": [
       "[<matplotlib.lines.Line2D at 0x7faf6a920fa0>]"
      ]
     },
     "execution_count": 31,
     "metadata": {},
     "output_type": "execute_result"
    },
    {
     "data": {
      "image/png": "[encoded data removed]",
      "text/plain": [
       "<Figure size 432x288 with 1 Axes>"
      ]
     },
     "metadata": {
      "needs_background": "light"
     },
     "output_type": "display_data"
    }
   ],
   "source": [
    "clf = Perceptron(warm_start=True, n_jobs=1)\n",
    "\n",
    "scores = []\n",
    "n_range = range(1,50)\n",
    "\n",
    "for n in n_range:\n",
    "    clf.fit(X_train, y_train)\n",
    "    score = clf.score(X_test, y_test)\n",
    "    print(n, score)\n",
    "    scores.append(score)\n",
    "    \n",
    "scores = np.array(scores)\n",
    "\n",
    "plt.plot(n_range, scores)\n"
   ]
  },
  {
   "cell_type": "code",
   "execution_count": 32,
   "metadata": {},
   "outputs": [],
   "source": [
    "from sklearn.preprocessing import MinMaxScaler\n",
    "\n",
    "scaler = MinMaxScaler()\n",
    "scaler.fit(X_train)\n",
    "\n",
    "X_train_scale = scaler.transform(X_train)\n",
    "X_test_scale = scaler.transform(X_test)"
   ]
  },
  {
   "cell_type": "code",
   "execution_count": 33,
   "metadata": {},
   "outputs": [
    {
     "data": {
      "text/plain": [
       "array([0.64912281, 0.83333333, 0.71052632, 0.83333333, 0.84210526,\n",
       "       0.77192982, 0.84210526, 0.76315789, 0.76315789, 0.76315789,\n",
       "       0.78947368, 0.85087719, 0.92105263, 0.92105263, 0.92105263,\n",
       "       0.85964912, 0.83333333, 0.85087719, 0.83333333, 0.83333333,\n",
       "       0.83333333, 0.85087719, 0.84210526, 0.83333333, 0.83333333,\n",
       "       0.83333333, 0.83333333, 0.83333333, 0.92105263, 0.89473684,\n",
       "       0.92982456, 0.84210526, 0.8245614 , 0.83333333, 0.83333333,\n",
       "       0.83333333, 0.83333333, 0.85087719, 0.88596491, 0.83333333,\n",
       "       0.83333333, 0.83333333, 0.83333333, 0.83333333, 0.88596491,\n",
       "       0.87719298, 0.89473684, 0.87719298, 0.84210526])"
      ]
     },
     "execution_count": 33,
     "metadata": {},
     "output_type": "execute_result"
    }
   ],
   "source": [
    "\n",
    "scores"
   ]
  },
  {
   "cell_type": "code",
   "execution_count": 34,
   "metadata": {},
   "outputs": [
    {
     "name": "stdout",
     "output_type": "stream",
     "text": [
      "1 0.9736842105263158\n",
      "2 0.9736842105263158\n",
      "3 0.9736842105263158\n",
      "4 0.9736842105263158\n",
      "5 0.9649122807017544\n",
      "6 0.9736842105263158\n",
      "7 0.8859649122807017\n",
      "8 0.956140350877193\n",
      "9 0.956140350877193\n",
      "10 0.9649122807017544\n",
      "11 0.9122807017543859\n",
      "12 0.9649122807017544\n",
      "13 0.9649122807017544\n",
      "14 0.9122807017543859\n",
      "15 0.9649122807017544\n",
      "16 0.9649122807017544\n",
      "17 0.9649122807017544\n",
      "18 0.9649122807017544\n",
      "19 0.9473684210526315\n",
      "20 0.9736842105263158\n",
      "21 0.9649122807017544\n",
      "22 0.9736842105263158\n",
      "23 0.9473684210526315\n",
      "24 0.956140350877193\n",
      "25 0.9473684210526315\n",
      "26 0.9649122807017544\n",
      "27 0.956140350877193\n",
      "28 0.9649122807017544\n",
      "29 0.9473684210526315\n",
      "30 0.9649122807017544\n",
      "31 0.9473684210526315\n",
      "32 0.956140350877193\n",
      "33 0.956140350877193\n",
      "34 0.956140350877193\n",
      "35 0.956140350877193\n",
      "36 0.9649122807017544\n",
      "37 0.9824561403508771\n",
      "38 0.956140350877193\n",
      "39 0.9473684210526315\n",
      "40 0.9473684210526315\n",
      "41 0.9385964912280702\n",
      "42 0.9473684210526315\n",
      "43 0.956140350877193\n",
      "44 0.9649122807017544\n",
      "45 0.956140350877193\n",
      "46 0.9649122807017544\n",
      "47 0.9298245614035088\n",
      "48 0.9473684210526315\n",
      "49 0.9473684210526315\n"
     ]
    },
    {
     "data": {
      "text/plain": [
       "<matplotlib.legend.Legend at 0x7faf6a7f5460>"
      ]
     },
     "execution_count": 34,
     "metadata": {},
     "output_type": "execute_result"
    },
    {
     "data": {
      "image/png": "[encoded data removed]",
      "text/plain": [
       "<Figure size 432x288 with 1 Axes>"
      ]
     },
     "metadata": {
      "needs_background": "light"
     },
     "output_type": "display_data"
    }
   ],
   "source": [
    "clf = Perceptron(warm_start=True, n_jobs=1)\n",
    "\n",
    "scores2 = []\n",
    "n_range = range(1,50)\n",
    "\n",
    "for n in n_range:\n",
    "    clf.fit(X_train_scale, y_train)\n",
    "    score = clf.score(X_test_scale, y_test)\n",
    "    print(n, score)\n",
    "    scores2.append(score)\n",
    "    \n",
    "scores2 = np.array(scores2)\n",
    "\n",
    "plt.plot(n_range, scores, label='no scaling')\n",
    "plt.plot(n_range, scores2, label='scaling')\n",
    "plt.legend(loc=\"best\")"
   ]
  },
  {
   "cell_type": "code",
   "execution_count": null,
   "metadata": {},
   "outputs": [],
   "source": []
  },
  {
   "cell_type": "code",
   "execution_count": null,
   "metadata": {},
   "outputs": [],
   "source": []
  },
  {
   "cell_type": "code",
   "execution_count": null,
   "metadata": {},
   "outputs": [],
   "source": []
  }
 ],
 "metadata": {
  "kernelspec": {
   "display_name": "Python 3",
   "language": "python",
   "name": "python3"
  },
  "language_info": {
   "codemirror_mode": {
    "name": "ipython",
    "version": 3
   },
   "file_extension": ".py",
   "mimetype": "text/x-python",
   "name": "python",
   "nbconvert_exporter": "python",
   "pygments_lexer": "ipython3",
   "version": "3.8.5"
  }
 },
 "nbformat": 4,
 "nbformat_minor": 4
}
