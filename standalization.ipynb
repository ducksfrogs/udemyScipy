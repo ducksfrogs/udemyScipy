{
 "cells": [
  {
   "cell_type": "code",
   "execution_count": 1,
   "metadata": {},
   "outputs": [],
   "source": [
    "import numpy as np\n",
    "import pandas as pd\n",
    "import matplotlib.pyplot as plt\n",
    "\n",
    "\n",
    "from sklearn.datasets import  load_breast_cancer\n",
    "from sklearn import linear_model\n",
    "from sklearn.model_selection import ShuffleSplit\n"
   ]
  },
  {
   "cell_type": "code",
   "execution_count": 2,
   "metadata": {},
   "outputs": [],
   "source": [
    "data = load_breast_cancer()\n"
   ]
  },
  {
   "cell_type": "code",
   "execution_count": 3,
   "metadata": {},
   "outputs": [],
   "source": [
    "ss = ShuffleSplit(n_splits=1,\n",
    "                  train_size=0.5,test_size=0.5)\n",
    "\n",
    "\n",
    "X = data.data\n",
    "y = data.target\n",
    "\n",
    "train_index, test_index = next(ss.split(X, y))\n",
    "\n",
    "X_train, X_test = X[train_index], X[test_index]\n",
    "y_train,y_test = y[train_index], y[test_index]"
   ]
  },
  {
   "cell_type": "code",
   "execution_count": 4,
   "metadata": {},
   "outputs": [
    {
     "data": {
      "text/plain": [
       "array(['mean radius', 'mean texture', 'mean perimeter', 'mean area',\n",
       "       'mean smoothness', 'mean compactness', 'mean concavity',\n",
       "       'mean concave points', 'mean symmetry', 'mean fractal dimension',\n",
       "       'radius error', 'texture error', 'perimeter error', 'area error',\n",
       "       'smoothness error', 'compactness error', 'concavity error',\n",
       "       'concave points error', 'symmetry error',\n",
       "       'fractal dimension error', 'worst radius', 'worst texture',\n",
       "       'worst perimeter', 'worst area', 'worst smoothness',\n",
       "       'worst compactness', 'worst concavity', 'worst concave points',\n",
       "       'worst symmetry', 'worst fractal dimension'], dtype='<U23')"
      ]
     },
     "execution_count": 4,
     "metadata": {},
     "output_type": "execute_result"
    }
   ],
   "source": [
    "data.feature_names"
   ]
  },
  {
   "cell_type": "code",
   "execution_count": 5,
   "metadata": {},
   "outputs": [
    {
     "data": {
      "text/plain": [
       "('mean smoothness', 'mean area')"
      ]
     },
     "execution_count": 5,
     "metadata": {},
     "output_type": "execute_result"
    }
   ],
   "source": [
    "data.feature_names[4], data.feature_names[3]"
   ]
  },
  {
   "cell_type": "code",
   "execution_count": 6,
   "metadata": {},
   "outputs": [
    {
     "data": {
      "text/plain": [
       "Text(0, 0.5, 'mean smoothness')"
      ]
     },
     "execution_count": 6,
     "metadata": {},
     "output_type": "execute_result"
    },
    {
     "data": {
      "image/png": "[encoded data removed]",
      "text/plain": [
       "<Figure size 432x288 with 1 Axes>"
      ]
     },
     "metadata": {
      "needs_background": "light"
     },
     "output_type": "display_data"
    }
   ],
   "source": [
    "\n",
    "plt.scatter(data.data[:,3], data.data[:,4])\n",
    "plt.xlabel(data.feature_names[3])\n",
    "plt.ylabel(data.feature_names[4])\n"
   ]
  },
  {
   "cell_type": "code",
   "execution_count": 7,
   "metadata": {},
   "outputs": [
    {
     "data": {
      "text/plain": [
       "Text(0, 0.5, 'mean smoothness')"
      ]
     },
     "execution_count": 7,
     "metadata": {},
     "output_type": "execute_result"
    },
    {
     "data": {
      "image/png": "[encoded data removed]",
      "text/plain": [
       "<Figure size 432x288 with 1 Axes>"
      ]
     },
     "metadata": {
      "needs_background": "light"
     },
     "output_type": "display_data"
    }
   ],
   "source": [
    "plt.scatter(data.data[:,3], data.data[:,4])\n",
    "plt.xlim(0,3000)\n",
    "plt.ylim(0,3000)\n",
    "plt.xlabel(data.feature_names[3])\n",
    "plt.ylabel(data.feature_names[4])\n"
   ]
  },
  {
   "cell_type": "code",
   "execution_count": 9,
   "metadata": {},
   "outputs": [],
   "source": [
    "from sklearn.preprocessing import StandardScaler\n",
    "\n",
    "scaler = StandardScaler()\n",
    "\n",
    "scaler.fit(X_train)\n",
    "\n",
    "X_train_scale = scaler.transform(X_train)\n"
   ]
  },
  {
   "cell_type": "code",
   "execution_count": 10,
   "metadata": {},
   "outputs": [
    {
     "data": {
      "text/plain": [
       "(array([ 1.17668004e-16,  1.00369634e-15,  9.27661703e-16, -5.43383804e-16,\n",
       "         1.74957857e-15, -2.80878607e-16, -1.08520391e-15, -2.47454639e-16,\n",
       "         1.53574336e-15, -4.74747393e-15,  8.30517189e-16, -1.30021189e-15,\n",
       "        -1.57913588e-15,  2.53123031e-16, -5.39474568e-16, -9.14761225e-16,\n",
       "        -1.34086795e-16, -9.06942753e-16, -2.23278458e-15,  1.83382261e-15,\n",
       "         1.04337509e-15,  3.64824563e-15,  7.10699105e-16, -1.84906863e-16,\n",
       "        -1.21655424e-15, -7.42754840e-18,  2.40418014e-16, -2.49018333e-16,\n",
       "         1.23570950e-15,  3.39986255e-15]),\n",
       " array([1., 1., 1., 1., 1., 1., 1., 1., 1., 1., 1., 1., 1., 1., 1., 1., 1.,\n",
       "        1., 1., 1., 1., 1., 1., 1., 1., 1., 1., 1., 1., 1.]))"
      ]
     },
     "execution_count": 10,
     "metadata": {},
     "output_type": "execute_result"
    }
   ],
   "source": [
    "X_train_scale.mean(axis=0), X_train_scale.std(axis=0)\n"
   ]
  },
  {
   "cell_type": "code",
   "execution_count": 11,
   "metadata": {},
   "outputs": [
    {
     "data": {
      "text/plain": [
       "(array([[  0.,  75., 141.,  55.,  10.,   3.,   0.,   0.,   0.,   0.],\n",
       "        [  2.,  74., 127.,  68.,  11.,   2.,   0.,   0.,   0.,   0.],\n",
       "        [  0.,  72., 141.,  57.,  10.,   4.,   0.,   0.,   0.,   0.],\n",
       "        [  0.,  64., 157.,  48.,  10.,   3.,   2.,   0.,   0.,   0.],\n",
       "        [  5.,  66., 132.,  67.,  13.,   1.,   0.,   0.,   0.,   0.],\n",
       "        [  0.,  73., 144.,  47.,  17.,   3.,   0.,   0.,   0.,   0.],\n",
       "        [  0.,  82., 127.,  58.,  13.,   4.,   0.,   0.,   0.,   0.],\n",
       "        [  0.,  85., 120.,  61.,  15.,   3.,   0.,   0.,   0.,   0.],\n",
       "        [  3.,  70., 133.,  65.,  12.,   1.,   0.,   0.,   0.,   0.],\n",
       "        [  0.,  72., 139.,  56.,  15.,   1.,   1.,   0.,   0.,   0.],\n",
       "        [  0.,  39., 197.,  30.,  15.,   1.,   0.,   0.,   2.,   0.],\n",
       "        [  0.,  76., 142.,  49.,  13.,   3.,   1.,   0.,   0.,   0.],\n",
       "        [  0.,  36., 203.,  28.,  14.,   1.,   0.,   0.,   1.,   1.],\n",
       "        [  0.,   0., 241.,  33.,   8.,   0.,   0.,   0.,   0.,   2.],\n",
       "        [  0.,  67., 152.,  47.,  14.,   3.,   1.,   0.,   0.,   0.],\n",
       "        [  0.,  64., 160.,  45.,   9.,   4.,   1.,   1.,   0.,   0.],\n",
       "        [  0.,  65., 151.,  51.,  13.,   2.,   2.,   0.,   0.,   0.],\n",
       "        [  5.,  67., 139.,  56.,  16.,   1.,   0.,   0.,   0.,   0.],\n",
       "        [  0.,  66., 157.,  46.,   9.,   5.,   1.,   0.,   0.,   0.],\n",
       "        [  0.,  54., 179.,  38.,   6.,   5.,   1.,   0.,   1.,   0.],\n",
       "        [  0.,  72., 142.,  52.,  15.,   3.,   0.,   0.,   0.,   0.],\n",
       "        [  1.,  76., 127.,  68.,  10.,   2.,   0.,   0.,   0.,   0.],\n",
       "        [  0.,  76., 139.,  53.,  13.,   3.,   0.,   0.,   0.,   0.],\n",
       "        [  0.,  59., 161.,  47.,  12.,   3.,   1.,   1.,   0.,   0.],\n",
       "        [  5.,  63., 142.,  59.,  14.,   1.,   0.,   0.,   0.,   0.],\n",
       "        [  0.,  69., 141.,  57.,  13.,   2.,   2.,   0.,   0.,   0.],\n",
       "        [  0.,  84., 128.,  53.,  17.,   2.,   0.,   0.,   0.,   0.],\n",
       "        [  0.,  74., 123.,  70.,  17.,   0.,   0.,   0.,   0.,   0.],\n",
       "        [  3.,  63., 158.,  43.,  13.,   3.,   1.,   0.,   0.,   0.],\n",
       "        [  0.,  74., 141.,  50.,  14.,   5.,   0.,   0.,   0.,   0.]]),\n",
       " array([-3.18891414, -1.94618687, -0.7034596 ,  0.53926767,  1.78199494,\n",
       "         3.02472221,  4.26744948,  5.51017675,  6.75290402,  7.99563129,\n",
       "         9.23835856]),\n",
       " <a list of 30 BarContainer objects>)"
      ]
     },
     "execution_count": 11,
     "metadata": {},
     "output_type": "execute_result"
    },
    {
     "data": {
      "image/png": "[encoded data removed]",
      "text/plain": [
       "<Figure size 432x288 with 1 Axes>"
      ]
     },
     "metadata": {
      "needs_background": "light"
     },
     "output_type": "display_data"
    }
   ],
   "source": [
    "plt.hist(X_train_scale)"
   ]
  },
  {
   "cell_type": "code",
   "execution_count": 12,
   "metadata": {},
   "outputs": [
    {
     "data": {
      "text/plain": [
       "(array([[284.,   0.,   0.,   0.,   0.,   0.,   0.,   0.,   0.,   0.],\n",
       "        [284.,   0.,   0.,   0.,   0.,   0.,   0.,   0.,   0.,   0.],\n",
       "        [284.,   0.,   0.,   0.,   0.,   0.,   0.,   0.,   0.,   0.],\n",
       "        [ 73., 147.,  42.,  17.,   3.,   2.,   0.,   0.,   0.,   0.],\n",
       "        [284.,   0.,   0.,   0.,   0.,   0.,   0.,   0.,   0.,   0.],\n",
       "        [284.,   0.,   0.,   0.,   0.,   0.,   0.,   0.,   0.,   0.],\n",
       "        [284.,   0.,   0.,   0.,   0.,   0.,   0.,   0.,   0.,   0.],\n",
       "        [284.,   0.,   0.,   0.,   0.,   0.,   0.,   0.,   0.,   0.],\n",
       "        [284.,   0.,   0.,   0.,   0.,   0.,   0.,   0.,   0.,   0.],\n",
       "        [284.,   0.,   0.,   0.,   0.,   0.,   0.,   0.,   0.,   0.],\n",
       "        [284.,   0.,   0.,   0.,   0.,   0.,   0.,   0.,   0.,   0.],\n",
       "        [284.,   0.,   0.,   0.,   0.,   0.,   0.,   0.,   0.,   0.],\n",
       "        [284.,   0.,   0.,   0.,   0.,   0.,   0.,   0.,   0.,   0.],\n",
       "        [282.,   2.,   0.,   0.,   0.,   0.,   0.,   0.,   0.,   0.],\n",
       "        [284.,   0.,   0.,   0.,   0.,   0.,   0.,   0.,   0.,   0.],\n",
       "        [284.,   0.,   0.,   0.,   0.,   0.,   0.,   0.,   0.,   0.],\n",
       "        [284.,   0.,   0.,   0.,   0.,   0.,   0.,   0.,   0.,   0.],\n",
       "        [284.,   0.,   0.,   0.,   0.,   0.,   0.,   0.,   0.,   0.],\n",
       "        [284.,   0.,   0.,   0.,   0.,   0.,   0.,   0.,   0.,   0.],\n",
       "        [284.,   0.,   0.,   0.,   0.,   0.,   0.,   0.,   0.,   0.],\n",
       "        [284.,   0.,   0.,   0.,   0.,   0.,   0.,   0.,   0.,   0.],\n",
       "        [284.,   0.,   0.,   0.,   0.,   0.,   0.,   0.,   0.,   0.],\n",
       "        [284.,   0.,   0.,   0.,   0.,   0.,   0.,   0.,   0.,   0.],\n",
       "        [ 32., 146.,  47.,  32.,  16.,   4.,   4.,   1.,   1.,   1.],\n",
       "        [284.,   0.,   0.,   0.,   0.,   0.,   0.,   0.,   0.,   0.],\n",
       "        [284.,   0.,   0.,   0.,   0.,   0.,   0.,   0.,   0.,   0.],\n",
       "        [284.,   0.,   0.,   0.,   0.,   0.,   0.,   0.,   0.,   0.],\n",
       "        [284.,   0.,   0.,   0.,   0.,   0.,   0.,   0.,   0.,   0.],\n",
       "        [284.,   0.,   0.,   0.,   0.,   0.,   0.,   0.,   0.,   0.],\n",
       "        [284.,   0.,   0.,   0.,   0.,   0.,   0.,   0.,   0.,   0.]]),\n",
       " array([   0. ,  425.4,  850.8, 1276.2, 1701.6, 2127. , 2552.4, 2977.8,\n",
       "        3403.2, 3828.6, 4254. ]),\n",
       " <a list of 30 BarContainer objects>)"
      ]
     },
     "execution_count": 12,
     "metadata": {},
     "output_type": "execute_result"
    },
    {
     "data": {
      "image/png": "[encoded data removed]",
      "text/plain": [
       "<Figure size 432x288 with 1 Axes>"
      ]
     },
     "metadata": {
      "needs_background": "light"
     },
     "output_type": "display_data"
    }
   ],
   "source": [
    "plt.hist(X_train)"
   ]
  },
  {
   "cell_type": "code",
   "execution_count": 13,
   "metadata": {},
   "outputs": [],
   "source": [
    "X_test_scale = scaler.transform(X_test)\n"
   ]
  },
  {
   "cell_type": "code",
   "execution_count": 14,
   "metadata": {},
   "outputs": [
    {
     "data": {
      "text/plain": [
       "<matplotlib.legend.Legend at 0x7f3751064bb0>"
      ]
     },
     "execution_count": 14,
     "metadata": {},
     "output_type": "execute_result"
    },
    {
     "data": {
      "image/png": "[encoded data removed]",
      "text/plain": [
       "<Figure size 432x288 with 1 Axes>"
      ]
     },
     "metadata": {
      "needs_background": "light"
     },
     "output_type": "display_data"
    }
   ],
   "source": [
    "plt.scatter(X_train_scale[:, 3],\n",
    "             X_train_scale[:, 4], \n",
    "             c='blue',\n",
    "             label='train')\n",
    "plt.scatter(X_train_scale[:, 3],\n",
    "            X_train_scale[:, 4],c='red', label='test')\n",
    "plt.xlabel(data.feature_names[3]+\"(standaised)\")\n",
    "plt.ylabel(data.feature_names[3]+\"(standaised)\")\n",
    "plt.legend(loc=\"best\")\n"
   ]
  },
  {
   "cell_type": "code",
   "execution_count": 15,
   "metadata": {},
   "outputs": [
    {
     "data": {
      "text/plain": [
       "<matplotlib.legend.Legend at 0x7f37515609d0>"
      ]
     },
     "execution_count": 15,
     "metadata": {},
     "output_type": "execute_result"
    },
    {
     "data": {
      "image/png": "[encoded data removed]",
      "text/plain": [
       "<Figure size 432x288 with 1 Axes>"
      ]
     },
     "metadata": {
      "needs_background": "light"
     },
     "output_type": "display_data"
    }
   ],
   "source": [
    "plt.scatter(X_train_scale[:, 3],\n",
    "             X_train_scale[:, 4], \n",
    "             c='blue',\n",
    "             label='train')\n",
    "plt.scatter(X_test_scale[:, 3],\n",
    "            X_test_scale[:, 4],c='red', label='test')\n",
    "plt.xlabel(data.feature_names[3]+\"(standaised)\")\n",
    "plt.ylabel(data.feature_names[3]+\"(standaised)\")\n",
    "plt.legend(loc=\"best\")\n"
   ]
  },
  {
   "cell_type": "code",
   "execution_count": 16,
   "metadata": {},
   "outputs": [
    {
     "data": {
      "text/plain": [
       "0.9649122807017544"
      ]
     },
     "execution_count": 16,
     "metadata": {},
     "output_type": "execute_result"
    }
   ],
   "source": [
    "from sklearn import linear_model\n",
    "\n",
    "clf = linear_model.LogisticRegression()\n",
    "clf.fit(X_train_scale, y_train)\n",
    "clf.score(X_test_scale, y_test)\n",
    "\n"
   ]
  },
  {
   "cell_type": "code",
   "execution_count": 17,
   "metadata": {},
   "outputs": [
    {
     "name": "stderr",
     "output_type": "stream",
     "text": [
      "/home/ma/.bin/anaconda3/lib/python3.8/site-packages/sklearn/linear_model/_logistic.py:762: ConvergenceWarning: lbfgs failed to converge (status=1):\n",
      "STOP: TOTAL NO. of ITERATIONS REACHED LIMIT.\n",
      "\n",
      "Increase the number of iterations (max_iter) or scale the data as shown in:\n",
      "    https://scikit-learn.org/stable/modules/preprocessing.html\n",
      "Please also refer to the documentation for alternative solver options:\n",
      "    https://scikit-learn.org/stable/modules/linear_model.html#logistic-regression\n",
      "  n_iter_i = _check_optimize_result(\n"
     ]
    },
    {
     "data": {
      "text/plain": [
       "0.9263157894736842"
      ]
     },
     "execution_count": 17,
     "metadata": {},
     "output_type": "execute_result"
    }
   ],
   "source": [
    "clf.fit(X_train, y_train)\n",
    "clf.score(X_test, y_test)\n"
   ]
  },
  {
   "cell_type": "code",
   "execution_count": 20,
   "metadata": {},
   "outputs": [
    {
     "data": {
      "text/plain": [
       "<matplotlib.legend.Legend at 0x7f3750946a60>"
      ]
     },
     "execution_count": 20,
     "metadata": {},
     "output_type": "execute_result"
    },
    {
     "data": {
      "image/png": "[encoded data removed]",
      "text/plain": [
       "<Figure size 432x288 with 1 Axes>"
      ]
     },
     "metadata": {
      "needs_background": "light"
     },
     "output_type": "display_data"
    }
   ],
   "source": [
    "from sklearn.preprocessing import MinMaxScaler\n",
    "mmsclaer = MinMaxScaler([-1,1])\n",
    "\n",
    "mmsclaer.fit(X_train)\n",
    "\n",
    "X_train_mmscale = mmsclaer.transform(X_train)\n",
    "\n",
    "X_test_mmscale = mmsclaer.transform(X_test)\n",
    "\n",
    "plt.scatter(X_train_mmscale[:, 3],\n",
    "             X_train_mmscale[:, 4],\n",
    "             c='blue',\n",
    "             label='train')\n",
    "plt.scatter(X_test_mmscale[:, 3],\n",
    "            X_test_mmscale[:, 4],c='red', label='test')\n",
    "plt.xlabel(data.feature_names[3]+\"(standaised)\")\n",
    "plt.ylabel(data.feature_names[3]+\"(standaised)\")\n",
    "plt.legend(loc=\"best\")\n"
   ]
  },
  {
   "cell_type": "code",
   "execution_count": 21,
   "metadata": {},
   "outputs": [],
   "source": [
    "from sklearn.preprocessing import Normalizer\n",
    "\n",
    "normalizer = Normalizer()\n",
    "\n",
    "\n",
    "\n",
    "X_train_scale = normalizer.transform(X_train)\n",
    "\n",
    "X_train_scale.mean(axis=0), X_train_scale.std(axis=0)\n",
    "\n",
    "X_test_scale = normalizer.transform(X_test)\n"
   ]
  },
  {
   "cell_type": "code",
   "execution_count": null,
   "metadata": {},
   "outputs": [],
   "source": []
  }
 ],
 "metadata": {
  "kernelspec": {
   "display_name": "Python 3",
   "language": "python",
   "name": "python3"
  },
  "language_info": {
   "codemirror_mode": {
    "name": "ipython",
    "version": 3
   },
   "file_extension": ".py",
   "mimetype": "text/x-python",
   "name": "python",
   "nbconvert_exporter": "python",
   "pygments_lexer": "ipython3",
   "version": "3.8.5"
  }
 },
 "nbformat": 4,
 "nbformat_minor": 4
}
